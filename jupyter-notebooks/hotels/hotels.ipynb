{
 "cells": [
  {
   "cell_type": "markdown",
   "metadata": {},
   "source": [
    "# Hotel Reviews in Europe\n",
    "\n",
    "In this notebook we will use [Hotel Reviews Data in Europe](https://www.kaggle.com/jiashenliu/515k-hotel-reviews-data-in-europe) dataset for searching hotels by user's query. For each hotel in dataset we will create a vector. That vector will be an average of all hotel's review vectors. Finally we will try to find hotels suitable to some user's query using Vektonn."
   ]
  },
  {
   "cell_type": "markdown",
   "metadata": {},
   "source": [
    "## Install necessary dependencies"
   ]
  },
  {
   "cell_type": "code",
   "execution_count": 1,
   "metadata": {},
   "outputs": [],
   "source": [
    "! pip install --upgrade geopy matplotlib nltk pandas sklearn vektonn\n",
    "\n",
    "from IPython.display import clear_output\n",
    "clear_output()"
   ]
  },
  {
   "cell_type": "code",
   "execution_count": 2,
   "metadata": {},
   "outputs": [
    {
     "name": "stdout",
     "output_type": "stream",
     "text": [
      "vektonn                0.6.0               \r\n"
     ]
    }
   ],
   "source": [
    "! pip list | grep vektonn"
   ]
  },
  {
   "cell_type": "code",
   "execution_count": 3,
   "metadata": {
    "ExecuteTime": {
     "end_time": "2021-07-13T12:22:18.006368Z",
     "start_time": "2021-07-13T12:22:16.584027Z"
    },
    "scrolled": true
   },
   "outputs": [],
   "source": [
    "from geopy.geocoders import Nominatim\n",
    "import matplotlib.pyplot as plt\n",
    "import nltk\n",
    "from nltk import word_tokenize\n",
    "from nltk.stem import WordNetLemmatizer\n",
    "import numpy as np\n",
    "import pandas as pd\n",
    "from sklearn.feature_extraction.text import TfidfVectorizer\n",
    "from tqdm.auto import tqdm"
   ]
  },
  {
   "cell_type": "markdown",
   "metadata": {},
   "source": [
    "## Get dataset and make some EDA\n",
    "\n",
    "Dataset - https://www.kaggle.com/jiashenliu/515k-hotel-reviews-data-in-europe\n",
    "\n",
    "First we need to download it and put into `.data` directory. One can use `download-dataset.sh` script located in the current directory.\n",
    "\n",
    "Then we can read it:"
   ]
  },
  {
   "cell_type": "code",
   "execution_count": 4,
   "metadata": {
    "ExecuteTime": {
     "end_time": "2021-07-13T12:22:20.559797Z",
     "start_time": "2021-07-13T12:22:18.009683Z"
    },
    "scrolled": true
   },
   "outputs": [
    {
     "name": "stdout",
     "output_type": "stream",
     "text": [
      "(515738, 17)\n"
     ]
    }
   ],
   "source": [
    "hotel_reviews = pd.read_csv('.data/Hotel_Reviews.csv')\n",
    "print(hotel_reviews.shape)"
   ]
  },
  {
   "cell_type": "markdown",
   "metadata": {},
   "source": [
    "Show number of hotels:"
   ]
  },
  {
   "cell_type": "code",
   "execution_count": 5,
   "metadata": {
    "ExecuteTime": {
     "end_time": "2021-07-13T12:22:20.628242Z",
     "start_time": "2021-07-13T12:22:20.562275Z"
    }
   },
   "outputs": [
    {
     "data": {
      "text/plain": [
       "1492"
      ]
     },
     "execution_count": 5,
     "metadata": {},
     "output_type": "execute_result"
    }
   ],
   "source": [
    "hotel_reviews.Hotel_Name.nunique()"
   ]
  },
  {
   "cell_type": "markdown",
   "metadata": {},
   "source": [
    "Get hotel average score histogram:"
   ]
  },
  {
   "cell_type": "code",
   "execution_count": 6,
   "metadata": {
    "ExecuteTime": {
     "end_time": "2021-07-13T12:22:20.848631Z",
     "start_time": "2021-07-13T12:22:20.630327Z"
    }
   },
   "outputs": [
    {
     "data": {
      "image/png": "[encoded data removed]",
      "text/plain": [
       "<Figure size 432x288 with 1 Axes>"
      ]
     },
     "metadata": {
      "needs_background": "light"
     },
     "output_type": "display_data"
    }
   ],
   "source": [
    "hotel_reviews.groupby('Hotel_Name')['Reviewer_Score'].mean().hist(bins=20, range=[0, 10])\n",
    "plt.xticks(range(0, 11))\n",
    "plt.xlabel('Average score')\n",
    "plt.ylabel('Amount of hotels')\n",
    "plt.show()"
   ]
  },
  {
   "cell_type": "markdown",
   "metadata": {},
   "source": [
    "Explore hotel locations:"
   ]
  },
  {
   "cell_type": "code",
   "execution_count": 7,
   "metadata": {
    "ExecuteTime": {
     "end_time": "2021-07-13T12:22:22.794009Z",
     "start_time": "2021-07-13T12:22:20.851224Z"
    }
   },
   "outputs": [],
   "source": [
    "cities = hotel_reviews['Hotel_Address'].str.split().str[-2].unique()"
   ]
  },
  {
   "cell_type": "code",
   "execution_count": 8,
   "metadata": {
    "ExecuteTime": {
     "end_time": "2021-07-13T12:22:23.003449Z",
     "start_time": "2021-07-13T12:22:22.796908Z"
    }
   },
   "outputs": [],
   "source": [
    "cities = np.where(cities == 'United', 'London', cities)"
   ]
  },
  {
   "cell_type": "code",
   "execution_count": 9,
   "metadata": {
    "ExecuteTime": {
     "end_time": "2021-07-13T12:22:23.054113Z",
     "start_time": "2021-07-13T12:22:23.005277Z"
    }
   },
   "outputs": [],
   "source": [
    "geolocator = Nominatim(user_agent=\"my_app\")"
   ]
  },
  {
   "cell_type": "code",
   "execution_count": 10,
   "metadata": {
    "ExecuteTime": {
     "end_time": "2021-07-13T12:22:28.050825Z",
     "start_time": "2021-07-13T12:22:23.058640Z"
    }
   },
   "outputs": [
    {
     "data": {
      "image/png": "[encoded data removed]",
      "text/plain": [
       "<Figure size 1080x504 with 1 Axes>"
      ]
     },
     "metadata": {
      "needs_background": "light"
     },
     "output_type": "display_data"
    }
   ],
   "source": [
    "plt.figure(figsize=(15, 7))\n",
    "plt.plot(hotel_reviews['lng'], hotel_reviews['lat'], 'ro')\n",
    "for city in cities:\n",
    "    location = geolocator.geocode(city)\n",
    "    plt.plot(location.longitude, location.latitude, 'bo')\n",
    "    plt.annotate(city, (location.longitude, location.latitude))\n",
    "plt.xlabel('longitude')\n",
    "plt.ylabel('latitude')\n",
    "plt.grid()\n",
    "plt.xticks(range(-1, 18))\n",
    "plt.yticks(range(41, 54))\n",
    "plt.show()"
   ]
  },
  {
   "cell_type": "markdown",
   "metadata": {},
   "source": [
    "## Prepare hotel reviews embeddings"
   ]
  },
  {
   "cell_type": "markdown",
   "metadata": {},
   "source": [
    "For embeddings generation we are going to use TfIdf.\n",
    "\n",
    "Before vectorization we want to lemmatize words in reviews for better results."
   ]
  },
  {
   "cell_type": "code",
   "execution_count": 11,
   "metadata": {
    "ExecuteTime": {
     "end_time": "2021-07-13T12:22:28.348205Z",
     "start_time": "2021-07-13T12:22:28.054798Z"
    }
   },
   "outputs": [
    {
     "name": "stderr",
     "output_type": "stream",
     "text": [
      "[nltk_data] Downloading package wordnet to .data/nltk_data...\n",
      "[nltk_data]   Package wordnet is already up-to-date!\n",
      "[nltk_data] Downloading package punkt to .data/nltk_data...\n",
      "[nltk_data]   Package punkt is already up-to-date!\n"
     ]
    },
    {
     "data": {
      "text/plain": [
       "True"
      ]
     },
     "execution_count": 11,
     "metadata": {},
     "output_type": "execute_result"
    }
   ],
   "source": [
    "nltk.data.path.append('.data/nltk_data')\n",
    "nltk.download('wordnet', download_dir='.data/nltk_data')\n",
    "nltk.download('punkt', download_dir='.data/nltk_data')"
   ]
  },
  {
   "cell_type": "markdown",
   "metadata": {},
   "source": [
    "Let's use only positive reviews."
   ]
  },
  {
   "cell_type": "code",
   "execution_count": 12,
   "metadata": {
    "ExecuteTime": {
     "end_time": "2021-07-13T12:22:28.956522Z",
     "start_time": "2021-07-13T12:22:28.350239Z"
    }
   },
   "outputs": [
    {
     "name": "stdout",
     "output_type": "stream",
     "text": [
      "(479792, 17)\n"
     ]
    }
   ],
   "source": [
    "hotel_positive_reviews = hotel_reviews.copy()\n",
    "hotel_positive_reviews['Positive_Review'] = hotel_positive_reviews['Positive_Review'].replace('No Positive', np.nan)\n",
    "hotel_positive_reviews = hotel_positive_reviews.dropna(subset=['Positive_Review']).reset_index(drop=True)\n",
    "print(hotel_positive_reviews.shape)"
   ]
  },
  {
   "cell_type": "markdown",
   "metadata": {},
   "source": [
    "### Text lemmatization"
   ]
  },
  {
   "cell_type": "code",
   "execution_count": 13,
   "metadata": {
    "ExecuteTime": {
     "end_time": "2021-07-13T12:24:06.551676Z",
     "start_time": "2021-07-13T12:22:28.959212Z"
    }
   },
   "outputs": [
    {
     "data": {
      "application/vnd.jupyter.widget-view+json": {
       "model_id": "65bfc3290c354fbc9aa8e8ef3dabe72e",
       "version_major": 2,
       "version_minor": 0
      },
      "text/plain": [
       "  0%|          | 0/479792 [00:00<?, ?it/s]"
      ]
     },
     "metadata": {},
     "output_type": "display_data"
    }
   ],
   "source": [
    "lemmatizer = WordNetLemmatizer()\n",
    "tokenized_text = []\n",
    "\n",
    "for sentence in tqdm(hotel_positive_reviews['Positive_Review'].values):\n",
    "    tokenized_sentence = ' '.join([lemmatizer.lemmatize(x).lower() for x in word_tokenize(sentence)])\n",
    "    tokenized_text.append(tokenized_sentence)\n",
    "    \n",
    "hotel_positive_reviews['Positive_Review_lemmatized'] = tokenized_text"
   ]
  },
  {
   "cell_type": "markdown",
   "metadata": {
    "ExecuteTime": {
     "end_time": "2021-07-13T11:51:33.895668Z",
     "start_time": "2021-07-13T11:55:19.505Z"
    }
   },
   "source": [
    "### Text vectorization"
   ]
  },
  {
   "cell_type": "code",
   "execution_count": 14,
   "metadata": {
    "ExecuteTime": {
     "end_time": "2021-07-13T12:24:20.949729Z",
     "start_time": "2021-07-13T12:24:06.553734Z"
    }
   },
   "outputs": [
    {
     "name": "stdout",
     "output_type": "stream",
     "text": [
      "(479792, 128)\n"
     ]
    }
   ],
   "source": [
    "vectorizer = TfidfVectorizer(max_features=128, stop_words='english')\n",
    "vectorized_text = vectorizer.fit_transform(hotel_positive_reviews['Positive_Review_lemmatized'].values).toarray()\n",
    "print(vectorized_text.shape)"
   ]
  },
  {
   "cell_type": "markdown",
   "metadata": {},
   "source": [
    "Calculating the average review vector for each hotel."
   ]
  },
  {
   "cell_type": "code",
   "execution_count": 15,
   "metadata": {
    "ExecuteTime": {
     "end_time": "2021-07-13T12:25:21.126586Z",
     "start_time": "2021-07-13T12:24:20.951549Z"
    }
   },
   "outputs": [
    {
     "data": {
      "application/vnd.jupyter.widget-view+json": {
       "model_id": "7a4d3b0c5f3f4cbda7390ef203a932a7",
       "version_major": 2,
       "version_minor": 0
      },
      "text/plain": [
       "  0%|          | 0/1492 [00:00<?, ?it/s]"
      ]
     },
     "metadata": {},
     "output_type": "display_data"
    }
   ],
   "source": [
    "hotel_names = hotel_positive_reviews['Hotel_Name'].unique()\n",
    "\n",
    "final_vectors = np.zeros((len(hotel_names), vectorized_text.shape[1]))\n",
    "\n",
    "for i, hotel_name in enumerate(tqdm(hotel_positive_reviews['Hotel_Name'].unique())):\n",
    "    indexes = hotel_positive_reviews[hotel_positive_reviews['Hotel_Name'] == hotel_name].index\n",
    "    final_vectors[i, :] = vectorized_text[indexes].mean(axis=0)"
   ]
  },
  {
   "cell_type": "markdown",
   "metadata": {},
   "source": [
    "### Example"
   ]
  },
  {
   "cell_type": "code",
   "execution_count": 16,
   "metadata": {
    "ExecuteTime": {
     "end_time": "2021-07-13T12:25:21.136002Z",
     "start_time": "2021-07-13T12:25:21.128216Z"
    }
   },
   "outputs": [
    {
     "name": "stdout",
     "output_type": "stream",
     "text": [
      "Hotel Arena:  Only the park outside of the hotel was beautiful \n",
      "(1, 128)\n"
     ]
    }
   ],
   "source": [
    "def prepare_text(review, vectorizer):\n",
    "    tokenized_review = ' '.join([lemmatizer.lemmatize(x).lower() for x in word_tokenize(review)])\n",
    "    return vectorizer.transform([tokenized_review]).toarray()\n",
    "\n",
    "review_idx = 0\n",
    "review = hotel_reviews['Positive_Review'][review_idx]\n",
    "print(f'{hotel_reviews[\"Hotel_Name\"][review_idx]}: {review}')\n",
    "\n",
    "review_vector = prepare_text(review, vectorizer)\n",
    "print(review_vector.shape)"
   ]
  },
  {
   "cell_type": "code",
   "execution_count": 17,
   "metadata": {
    "ExecuteTime": {
     "end_time": "2021-07-13T12:25:21.447735Z",
     "start_time": "2021-07-13T12:25:21.137548Z"
    }
   },
   "outputs": [
    {
     "data": {
      "text/plain": [
       "'Hotel Seven One Seven'"
      ]
     },
     "execution_count": 17,
     "metadata": {},
     "output_type": "execute_result"
    }
   ],
   "source": [
    "hotel_names[np.linalg.norm(final_vectors - review_vector, axis=1).argmin()]"
   ]
  },
  {
   "cell_type": "markdown",
   "metadata": {},
   "source": [
    "## Use Vektonn"
   ]
  },
  {
   "cell_type": "markdown",
   "metadata": {},
   "source": [
    "### Setup data source and index schema"
   ]
  },
  {
   "cell_type": "markdown",
   "metadata": {},
   "source": [
    "Define Vektonn data source:"
   ]
  },
  {
   "cell_type": "code",
   "execution_count": 18,
   "metadata": {},
   "outputs": [],
   "source": [
    "%%bash\n",
    "\n",
    "data_source_schema_dir=../../docker/config/data-sources/Examples.Hotels\n",
    "mkdir -p $data_source_schema_dir\n",
    "\n",
    "cat <<EOF > \"$data_source_schema_dir/1.0.yaml\"\n",
    "vectorDimension: 128\n",
    "vectorsAreSparse: false\n",
    "attributeValueTypes:\n",
    "  Id: Int64\n",
    "  Name: String\n",
    "  AverageScore: Float64\n",
    "  Longitude: Float64\n",
    "  Latitude: Float64\n",
    "permanentAttributes: [\"Id\"]\n",
    "EOF"
   ]
  },
  {
   "cell_type": "markdown",
   "metadata": {},
   "source": [
    "Define Vektonn index:"
   ]
  },
  {
   "cell_type": "code",
   "execution_count": 19,
   "metadata": {},
   "outputs": [],
   "source": [
    "%%bash\n",
    "\n",
    "index_schema_dir=../../docker/config/indices/Examples.Hotels\n",
    "mkdir -p $index_schema_dir\n",
    "\n",
    "cat <<EOF > \"$index_schema_dir/1.0.yaml\"\n",
    "dataSourceId:\n",
    "  name: Examples.Hotels\n",
    "  version: 1.0\n",
    "indexAlgorithm:\n",
    "  type: FaissIndex.L2\n",
    "idAttributes: [\"Id\"]\n",
    "shardsById:\n",
    "  SingleShard: {}\n",
    "EOF\n",
    "\n",
    "cat <<EOF > \"../../docker/config/index-shards-topology.yaml\"\n",
    "Examples.Hotels:\n",
    "  1.0:\n",
    "    SingleShard: vektonn-index-shard:8082\n",
    "EOF"
   ]
  },
  {
   "cell_type": "markdown",
   "metadata": {},
   "source": [
    "### Start Vektonn services"
   ]
  },
  {
   "cell_type": "code",
   "execution_count": 20,
   "metadata": {},
   "outputs": [],
   "source": [
    "! ../../docker/run-vektonn.sh Examples.Hotels\n",
    "clear_output()"
   ]
  },
  {
   "cell_type": "markdown",
   "metadata": {},
   "source": [
    "Init Vektonn API client:"
   ]
  },
  {
   "cell_type": "code",
   "execution_count": 21,
   "metadata": {},
   "outputs": [],
   "source": [
    "from vektonn import Vektonn\n",
    "\n",
    "vektonn_client = Vektonn('http://localhost:8081')"
   ]
  },
  {
   "cell_type": "markdown",
   "metadata": {},
   "source": [
    "### Upload data points"
   ]
  },
  {
   "cell_type": "markdown",
   "metadata": {},
   "source": [
    "Prepare hotel attributes:"
   ]
  },
  {
   "cell_type": "code",
   "execution_count": 22,
   "metadata": {},
   "outputs": [],
   "source": [
    "hotel2average_score = hotel_reviews.groupby('Hotel_Name')['Reviewer_Score'].mean().to_dict()\n",
    "hotel2longitude = hotel_reviews.groupby('Hotel_Name')['lng'].mean().fillna(0.0).to_dict()\n",
    "hotel2latitude = hotel_reviews.groupby('Hotel_Name')['lat'].mean().fillna(0.0).to_dict()"
   ]
  },
  {
   "cell_type": "markdown",
   "metadata": {},
   "source": [
    "Upload vectors and corresponding attributes to Vektonn:"
   ]
  },
  {
   "cell_type": "code",
   "execution_count": 23,
   "metadata": {},
   "outputs": [
    {
     "name": "stdout",
     "output_type": "stream",
     "text": [
      "Successfully uploaded 1492 data points\n"
     ]
    }
   ],
   "source": [
    "from vektonn.dtos import InputDataPoint, Attribute, AttributeValue, Vector\n",
    "\n",
    "data_source_name = 'Examples.Hotels'\n",
    "data_source_version = '1.0'\n",
    "\n",
    "input_data_points = []\n",
    "for idx, hotel_name in enumerate(hotel_names):\n",
    "    input_data_points.append(InputDataPoint(\n",
    "        attributes=[\n",
    "            Attribute(key='Id', value=AttributeValue(int64=idx)),\n",
    "            Attribute(key='Name', value=AttributeValue(string=hotel_name)),\n",
    "            Attribute(key='AverageScore', value=AttributeValue(float64=hotel2average_score[hotel_name])),\n",
    "            Attribute(key='Longitude', value=AttributeValue(float64=hotel2longitude[hotel_name])),\n",
    "            Attribute(key='Latitude', value=AttributeValue(float64=hotel2latitude[hotel_name])),\n",
    "        ],\n",
    "        vector=Vector(is_sparse=False, coordinates=final_vectors[idx].tolist()),\n",
    "    ))\n",
    "\n",
    "try:\n",
    "    vektonn_client.upload(data_source_name, data_source_version, input_data_points)\n",
    "    print(f'Successfully uploaded {len(input_data_points)} data points')\n",
    "except BaseException as err:\n",
    "    print(f'Unexpected error: {repr(err)}')"
   ]
  },
  {
   "cell_type": "code",
   "execution_count": 24,
   "metadata": {},
   "outputs": [],
   "source": [
    "# wait a bit for Vektonn data indexing\n",
    "import time\n",
    "time.sleep(5)"
   ]
  },
  {
   "cell_type": "markdown",
   "metadata": {},
   "source": [
    "### Search for similiar hotels"
   ]
  },
  {
   "cell_type": "markdown",
   "metadata": {},
   "source": [
    "Let's imagine a user1 who pays attention on view from hotel room window, quality of breakfast and wants to relax. \n",
    "And user2 who wants to stay in hotel in quiet distrtict and is going to move to next destination after sleeping on comfortable bed.\n",
    "\n",
    "Probably their search queries would look like that:"
   ]
  },
  {
   "cell_type": "code",
   "execution_count": 25,
   "metadata": {},
   "outputs": [],
   "source": [
    "user_query1 = 'Hotel with beautiful view of old town, tasty breakfast and spa'\n",
    "user_query2 = 'Hotel in quiet place, not far from train station and with huge bed'"
   ]
  },
  {
   "cell_type": "markdown",
   "metadata": {},
   "source": [
    "We have to create a vector representation of the users' queries."
   ]
  },
  {
   "cell_type": "code",
   "execution_count": 26,
   "metadata": {},
   "outputs": [
    {
     "data": {
      "text/plain": [
       "array([0.        , 0.        , 0.        , 0.        , 0.        ,\n",
       "       0.        , 0.        , 0.        , 0.63441402, 0.        ,\n",
       "       0.        , 0.        , 0.38419395, 0.        , 0.        ,\n",
       "       0.        , 0.        , 0.        , 0.        , 0.        ,\n",
       "       0.        , 0.        , 0.        , 0.        , 0.        ,\n",
       "       0.        , 0.        , 0.        , 0.        , 0.        ,\n",
       "       0.        , 0.        , 0.        , 0.        , 0.        ,\n",
       "       0.        , 0.        , 0.        , 0.        , 0.        ,\n",
       "       0.        , 0.        , 0.        , 0.        , 0.        ,\n",
       "       0.        , 0.        , 0.        , 0.        , 0.        ,\n",
       "       0.        , 0.        , 0.        , 0.35085709, 0.        ,\n",
       "       0.        , 0.        , 0.        , 0.        , 0.        ,\n",
       "       0.        , 0.        , 0.        , 0.        , 0.        ,\n",
       "       0.        , 0.        , 0.        , 0.        , 0.        ,\n",
       "       0.        , 0.        , 0.        , 0.        , 0.        ,\n",
       "       0.        , 0.        , 0.        , 0.        , 0.        ,\n",
       "       0.        , 0.        , 0.        , 0.        , 0.        ,\n",
       "       0.        , 0.        , 0.        , 0.        , 0.        ,\n",
       "       0.        , 0.        , 0.        , 0.        , 0.        ,\n",
       "       0.        , 0.        , 0.        , 0.        , 0.        ,\n",
       "       0.        , 0.        , 0.        , 0.        , 0.        ,\n",
       "       0.        , 0.        , 0.        , 0.        , 0.        ,\n",
       "       0.        , 0.        , 0.        , 0.        , 0.        ,\n",
       "       0.        , 0.        , 0.        , 0.        , 0.57167575,\n",
       "       0.        , 0.        , 0.        , 0.        , 0.        ,\n",
       "       0.        , 0.        , 0.        ])"
      ]
     },
     "metadata": {},
     "output_type": "display_data"
    }
   ],
   "source": [
    "user_query_vector1 = prepare_text(user_query1, vectorizer)\n",
    "user_query_vector2 = prepare_text(user_query2, vectorizer)\n",
    "\n",
    "display(user_query_vector1[0])"
   ]
  },
  {
   "cell_type": "markdown",
   "metadata": {},
   "source": [
    "And then we search in space for vectors similar to users' query vectors."
   ]
  },
  {
   "cell_type": "code",
   "execution_count": 27,
   "metadata": {},
   "outputs": [
    {
     "data": {
      "text/plain": [
       "[Attribute(key='Id', value=AttributeValue(string=None, guid=None, bool=None, int64=1269, float64=None, date_time=None)),\n",
       " Attribute(key='AverageScore', value=AttributeValue(string=None, guid=None, bool=None, int64=None, float64=8.171649484536083, date_time=None)),\n",
       " Attribute(key='Latitude', value=AttributeValue(string=None, guid=None, bool=None, int64=None, float64=0.0, date_time=None)),\n",
       " Attribute(key='Longitude', value=AttributeValue(string=None, guid=None, bool=None, int64=None, float64=0.0, date_time=None)),\n",
       " Attribute(key='Name', value=AttributeValue(string='Austria Trend Hotel Schloss Wilhelminenberg Wien', guid=None, bool=None, int64=None, float64=None, date_time=None))]"
      ]
     },
     "metadata": {},
     "output_type": "display_data"
    }
   ],
   "source": [
    "from vektonn.dtos import SearchQuery, Vector\n",
    "\n",
    "index_name = 'Examples.Hotels'\n",
    "index_version = '1.0'\n",
    "\n",
    "search_query = SearchQuery(k=5, query_vectors=[\n",
    "    Vector(is_sparse=False, coordinates=user_query_vector1[0].tolist()),\n",
    "    Vector(is_sparse=False, coordinates=user_query_vector2[0].tolist()),\n",
    "])\n",
    "\n",
    "try:\n",
    "    search_results = vektonn_client.search(index_name, index_version, search_query)\n",
    "    display(search_results[0].nearest_data_points[0].attributes)\n",
    "except BaseException as err:\n",
    "    print(f'Unexpected error: {repr(err)}')"
   ]
  },
  {
   "cell_type": "markdown",
   "metadata": {},
   "source": [
    "Which hotels have most suitable reviews? Let's see."
   ]
  },
  {
   "cell_type": "code",
   "execution_count": 28,
   "metadata": {},
   "outputs": [
    {
     "name": "stdout",
     "output_type": "stream",
     "text": [
      "For query \"Hotel with beautiful view of old town, tasty breakfast and spa\" the following hotels are recommended:\n",
      "Austria Trend Hotel Schloss Wilhelminenberg Wien\n",
      "Gran Hotel La Florida\n",
      "Hotel Miramar Barcelona GL\n",
      "Novotel London Canary Wharf\n",
      "Shangri La Hotel at The Shard London\n",
      "\n",
      "For query \"Hotel in quiet place, not far from train station and with huge bed\" the following hotels are recommended:\n",
      "AC Hotel Sants a Marriott Lifestyle Hotel\n",
      "Barcel Sants\n",
      "AZIMUT Hotel Vienna\n",
      "Hotel Zeitgeist Vienna Hauptbahnhof\n",
      "Urban Lodge Hotel\n",
      "\n"
     ]
    }
   ],
   "source": [
    "for user_query, search_result in zip([user_query1, user_query2], search_results):\n",
    "    print(f'For query \"{user_query}\" the following hotels are recommended:')\n",
    "    for data_point in search_result.nearest_data_points:\n",
    "        attributes = {x.key : x.value for x in data_point.attributes}\n",
    "        print(attributes['Name'].string)\n",
    "    print()"
   ]
  }
 ],
 "metadata": {
  "kernelspec": {
   "display_name": "Python 3 (ipykernel)",
   "language": "python",
   "name": "python3"
  },
  "language_info": {
   "codemirror_mode": {
    "name": "ipython",
    "version": 3
   },
   "file_extension": ".py",
   "mimetype": "text/x-python",
   "name": "python",
   "nbconvert_exporter": "python",
   "pygments_lexer": "ipython3",
   "version": "3.8.10"
  },
  "toc": {
   "base_numbering": 1,
   "nav_menu": {},
   "number_sections": true,
   "sideBar": true,
   "skip_h1_title": false,
   "title_cell": "Table of Contents",
   "title_sidebar": "Contents",
   "toc_cell": false,
   "toc_position": {},
   "toc_section_display": true,
   "toc_window_display": false
  }
 },
 "nbformat": 4,
 "nbformat_minor": 2
}
